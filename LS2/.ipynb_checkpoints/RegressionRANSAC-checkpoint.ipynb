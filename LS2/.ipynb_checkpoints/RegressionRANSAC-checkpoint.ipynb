{
 "cells": [
  {
   "cell_type": "markdown",
   "metadata": {},
   "source": [
    "## Linear Regression and RANSAC"
   ]
  },
  {
   "cell_type": "raw",
   "metadata": {},
   "source": [
    "This example is adapted from: https://scikit-learn.org/stable/auto_examples/linear_model/plot_ransac.html"
   ]
  },
  {
   "cell_type": "code",
   "execution_count": 7,
   "metadata": {},
   "outputs": [],
   "source": [
    "# Load the modules we need\n",
    "import numpy as np\n",
    "import random\n",
    "from matplotlib import pyplot as plt\n",
    "from sklearn import linear_model, datasets"
   ]
  },
  {
   "cell_type": "code",
   "execution_count": 2,
   "metadata": {},
   "outputs": [],
   "source": [
    "#  Create some intial data\n",
    "n_samples = 1000\n",
    "\n",
    "X, y = datasets.make_regression(n_samples=n_samples, n_features=1,\n",
    "                                      n_informative=1, noise=10,\n",
    "                                      random_state=0)"
   ]
  },
  {
   "cell_type": "code",
   "execution_count": 3,
   "metadata": {},
   "outputs": [],
   "source": [
    "# Add some outlier data\n",
    "np.random.seed(0)\n",
    "n_outliers = 50\n",
    "X[:n_outliers] = 3 + 0.5 * np.random.normal(size=(n_outliers, 1))\n",
    "y[:n_outliers] = -3 + 10 * np.random.normal(size=n_outliers)"
   ]
  },
  {
   "cell_type": "code",
   "execution_count": 40,
   "metadata": {},
   "outputs": [],
   "source": [
    "# Create some test positions for for the lines we will draw\n",
    "line_X = np.arange(X.min(), X.max())[:, np.newaxis]"
   ]
  },
  {
   "cell_type": "code",
   "execution_count": 42,
   "metadata": {},
   "outputs": [
    {
     "name": "stdout",
     "output_type": "stream",
     "text": [
      "[[-174.38323639]\n",
      " [-120.21087252]\n",
      " [ -66.03850865]\n",
      " [ -11.86614478]\n",
      " [  42.30621909]\n",
      " [  96.47858295]\n",
      " [ 150.65094682]\n",
      " [ 204.82331069]]\n"
     ]
    }
   ],
   "source": [
    "def linReg(X,y):\n",
    "    a = np.sum(X.T*y)\n",
    "    b = np.sum(X.T*X.T)\n",
    "    g = np.sum(X.T)\n",
    "    d = np.sum(y)\n",
    "    n = np.size(X.T)\n",
    "\n",
    "    r = np.dot(np.linalg.inv(np.reshape([b,g,g,n],(2,2))),[a,d])\n",
    "    return (r[0],r[1])\n",
    "\n",
    "m,c = linReg(X,y)\n",
    "line_y = m*line_X + c\n",
    "print(line_y)"
   ]
  },
  {
   "cell_type": "code",
   "execution_count": 182,
   "metadata": {},
   "outputs": [
    {
     "name": "stdout",
     "output_type": "stream",
     "text": [
      "87.07286526479064 3.2127679423409603\n",
      "inliers :  950\n",
      "\n",
      "[[-262.02363585]\n",
      " [-174.95077058]\n",
      " [ -87.87790532]\n",
      " [  -0.80504005]\n",
      " [  86.26782521]\n",
      " [ 173.34069048]\n",
      " [ 260.41355574]\n",
      " [ 347.48642101]]\n"
     ]
    }
   ],
   "source": [
    "import math\n",
    "S = 2\n",
    "\n",
    "N = math.ceil(np.log(0.01) / np.log(1 - ( 1 - (n_outliers/np.size(X)))**S))\n",
    "\n",
    "thr_err = 50  \n",
    "\n",
    "best_err = float(\"inf\")\n",
    "best_max = 0\n",
    "\n",
    "line_y_ransac = 0\n",
    "\n",
    "k = 0 \n",
    "\n",
    "inlier_mask = np.full(np.size(X),True,dtype=bool)\n",
    "\n",
    "Smpl = []\n",
    "\n",
    "while k<N:\n",
    "    curr_err = 0\n",
    "    curr_max = 0\n",
    "    newS = [random.randint(0,np.size(X)) for _ in range(S)]\n",
    "    for s in newS:\n",
    "        Smpl.append(s)\n",
    "\n",
    "    X_new = np.array([X[x] for x in Smpl])\n",
    "    y_new = [y[x] for x in Smpl]\n",
    "\n",
    "    m,c = linReg(X_new,y_new)\n",
    "    \n",
    "    for i in range(np.size(X)):\n",
    "        pred_y = X[i]*m + c\n",
    "        err = abs(pred_y - y[i])\n",
    "        curr_err+=err\n",
    "        if not err <= thr_err:\n",
    "            inlier_mask[i] = False\n",
    "        else:\n",
    "            inlier_mask[i] = True\n",
    "            curr_max += 1\n",
    "            \n",
    "    if curr_max > best_max:\n",
    "        best_max = curr_max\n",
    "        best_err = curr_err\n",
    "        line_y_ransac = m*line_X + c\n",
    "    elif curr_max == best_max:\n",
    "        if curr_err < best_err:\n",
    "            best_max = curr_max\n",
    "            best_err = curr_err\n",
    "            line_y_ransac = m*line_X + c\n",
    "    else:\n",
    "        Smpl = Smpl[:len(Smpl)-S]\n",
    "        \n",
    "    k+=1\n",
    "    \n",
    "print(m,c)\n",
    "print(\"inliers : \",curr_max)\n",
    "print()\n",
    "print(line_y_ransac)\n",
    "outlier_mask = np.logical_not(inlier_mask)"
   ]
  },
  {
   "cell_type": "code",
   "execution_count": 65,
   "metadata": {},
   "outputs": [
    {
     "name": "stdout",
     "output_type": "stream",
     "text": [
      "[-249.81104528 -167.72571369  -85.64038211   -3.55505052   78.53028107\n",
      "  160.61561265  242.70094424  324.78627583]\n",
      "1000\n"
     ]
    }
   ],
   "source": [
    "# This is the cell you need to replace to complete Task 3.\n",
    "# Robustly fit linear model with RANSAC algorithm\n",
    "ransac = linear_model.RANSACRegressor()\n",
    "ransac.fit(X, y)\n",
    "\n",
    "# Predict data of estimated models\n",
    "line_y_ransac = ransac.predict(line_X)\n",
    "print(line_y_ransac)\n",
    "\n",
    "# Label the if source data is inlier or outlier\n",
    "inlier_mask = ransac.inlier_mask\n",
    "outlier_mask = np.logical_not(inlier_mask)"
   ]
  },
  {
   "cell_type": "code",
   "execution_count": 109,
   "metadata": {},
   "outputs": [
    {
     "data": {
      "image/png": "[encoded data removed]",
      "text/plain": [
       "<Figure size 432x288 with 1 Axes>"
      ]
     },
     "metadata": {
      "needs_background": "light"
     },
     "output_type": "display_data"
    }
   ],
   "source": [
    "lw = 2\n",
    "\n",
    "doing_linear = True\n",
    "doing_ransac = True\n",
    "\n",
    "if (doing_linear):\n",
    "    plt.plot(line_X, line_y, color='navy', linewidth=lw, label='Linear regressor')\n",
    "\n",
    "if (doing_ransac):\n",
    "    plt.scatter(X[inlier_mask], y[inlier_mask], color='yellowgreen', marker='.', label='Inliers')\n",
    "    plt.scatter(X[outlier_mask], y[outlier_mask], color='gold', marker='.', label='Outliers')\n",
    "    plt.plot(line_X, line_y_ransac, color='cornflowerblue', linewidth=lw, label='RANSAC regressor')\n",
    "else:\n",
    "    plt.scatter(X, y, color='yellowgreen', marker='.', label='Data')\n",
    "    \n",
    "plt.legend(loc='lower right')\n",
    "plt.xlabel(\"Input\")\n",
    "plt.ylabel(\"Response\")\n",
    "plt.show()"
   ]
  },
  {
   "cell_type": "code",
   "execution_count": null,
   "metadata": {},
   "outputs": [],
   "source": []
  }
 ],
 "metadata": {
  "kernelspec": {
   "display_name": "Python 3",
   "language": "python",
   "name": "python3"
  },
  "language_info": {
   "codemirror_mode": {
    "name": "ipython",
    "version": 3
   },
   "file_extension": ".py",
   "mimetype": "text/x-python",
   "name": "python",
   "nbconvert_exporter": "python",
   "pygments_lexer": "ipython3",
   "version": "3.8.5"
  }
 },
 "nbformat": 4,
 "nbformat_minor": 2
}
