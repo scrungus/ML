{
 "cells": [
  {
   "cell_type": "markdown",
   "metadata": {},
   "source": [
    "## Linear Regression and RANSAC\n",
    "This notebook creates a random dataset and performs a linear regressions and RANSAC regression"
   ]
  },
  {
   "cell_type": "raw",
   "metadata": {},
   "source": [
    "This example is adapted from: https://scikit-learn.org/stable/auto_examples/linear_model/plot_ransac.html"
   ]
  },
  {
   "cell_type": "code",
   "execution_count": 183,
   "metadata": {},
   "outputs": [],
   "source": [
    "# Load the modules we need.\n",
    "import numpy as np\n",
    "import random\n",
    "from matplotlib import pyplot as plt\n",
    "from sklearn import linear_model, datasets"
   ]
  },
  {
   "cell_type": "code",
   "execution_count": 184,
   "metadata": {},
   "outputs": [],
   "source": [
    "#  Create some intial data\n",
    "n_samples = 1000\n",
    "\n",
    "X, y = datasets.make_regression(n_samples=n_samples, n_features=1,\n",
    "                                      n_informative=1, noise=10,\n",
    "                                      random_state=0)"
   ]
  },
  {
   "cell_type": "code",
   "execution_count": 185,
   "metadata": {},
   "outputs": [],
   "source": [
    "# Add some outlier data\n",
    "np.random.seed(0)\n",
    "n_outliers = 50\n",
    "X[:n_outliers] = 3 + 0.5 * np.random.normal(size=(n_outliers, 1))\n",
    "y[:n_outliers] = -3 + 10 * np.random.normal(size=n_outliers)"
   ]
  },
  {
   "cell_type": "code",
   "execution_count": 186,
   "metadata": {},
   "outputs": [],
   "source": [
    "# Create some test positions for for the lines we will draw\n",
    "line_X = np.arange(X.min(), X.max())[:, np.newaxis]"
   ]
  },
  {
   "cell_type": "code",
   "execution_count": 187,
   "metadata": {},
   "outputs": [
    {
     "name": "stdout",
     "output_type": "stream",
     "text": [
      "[[-174.38323639]\n",
      " [-120.21087252]\n",
      " [ -66.03850865]\n",
      " [ -11.86614478]\n",
      " [  42.30621909]\n",
      " [  96.47858295]\n",
      " [ 150.65094682]\n",
      " [ 204.82331069]]\n"
     ]
    }
   ],
   "source": [
    "def linReg(X,y):\n",
    "    a = np.sum(X.T*y)\n",
    "    b = np.sum(X.T*X.T)\n",
    "    g = np.sum(X.T)\n",
    "    d = np.sum(y)\n",
    "    n = np.size(X.T)\n",
    "\n",
    "    r = np.dot(np.linalg.inv(np.reshape([b,g,g,n],(2,2))),[a,d])\n",
    "    return (r[0],r[1])\n",
    "\n",
    "m,c = linReg(X,y)\n",
    "line_y = m*line_X + c\n",
    "print(line_y)"
   ]
  },
  {
   "cell_type": "code",
   "execution_count": 188,
   "metadata": {},
   "outputs": [
    {
     "name": "stdout",
     "output_type": "stream",
     "text": [
      "84.81959417819638 -10.087494955649554\n",
      "inliers :  950\n",
      "\n",
      "[[-269.18498061]\n",
      " [-182.91251007]\n",
      " [ -96.64003953]\n",
      " [ -10.36756899]\n",
      " [  75.90490155]\n",
      " [ 162.17737209]\n",
      " [ 248.44984263]\n",
      " [ 334.72231317]]\n"
     ]
    }
   ],
   "source": [
    "import math\n",
    "S = 2\n",
    "\n",
    "N = math.ceil(np.log(0.01) / np.log(1 - ( 1 - (n_outliers/np.size(X)))**S))\n",
    "\n",
    "thr_err = 50  \n",
    "\n",
    "best_err = float(\"inf\")\n",
    "best_max = 0\n",
    "\n",
    "line_y_ransac = 0\n",
    "\n",
    "k = 0 \n",
    "\n",
    "inlier_mask = np.full(np.size(X),True,dtype=bool)\n",
    "\n",
    "Smpl = []\n",
    "\n",
    "while k<N:\n",
    "    curr_err = 0\n",
    "    curr_max = 0\n",
    "    newS = [random.randint(0,np.size(X)) for _ in range(S)]\n",
    "    for s in newS:\n",
    "        Smpl.append(s)\n",
    "\n",
    "    X_new = np.array([X[x] for x in Smpl])\n",
    "    y_new = [y[x] for x in Smpl]\n",
    "\n",
    "    m,c = linReg(X_new,y_new)\n",
    "    \n",
    "    for i in range(np.size(X)):\n",
    "        pred_y = X[i]*m + c\n",
    "        err = abs(pred_y - y[i])\n",
    "        curr_err+=err\n",
    "        if not err <= thr_err:\n",
    "            inlier_mask[i] = False\n",
    "        else:\n",
    "            inlier_mask[i] = True\n",
    "            curr_max += 1\n",
    "            \n",
    "    if curr_max > best_max:\n",
    "        best_max = curr_max\n",
    "        best_err = curr_err\n",
    "        line_y_ransac = m*line_X + c\n",
    "    elif curr_max == best_max:\n",
    "        if curr_err < best_err:\n",
    "            best_max = curr_max\n",
    "            best_err = curr_err\n",
    "            line_y_ransac = m*line_X + c\n",
    "    else:\n",
    "        Smpl = Smpl[:len(Smpl)-S]\n",
    "        \n",
    "    k+=1\n",
    "    \n",
    "print(m,c)\n",
    "print(\"inliers : \",curr_max)\n",
    "print()\n",
    "print(line_y_ransac)\n",
    "outlier_mask = np.logical_not(inlier_mask)"
   ]
  },
  {
   "cell_type": "code",
   "execution_count": 189,
   "metadata": {},
   "outputs": [
    {
     "data": {
      "image/png": "[encoded data removed]",
      "text/plain": [
       "<Figure size 432x288 with 1 Axes>"
      ]
     },
     "metadata": {
      "needs_background": "light"
     },
     "output_type": "display_data"
    }
   ],
   "source": [
    "lw = 2\n",
    "\n",
    "doing_linear = True\n",
    "doing_ransac = True\n",
    "\n",
    "if (doing_linear):\n",
    "    plt.plot(line_X, line_y, color='navy', linewidth=lw, label='Linear regressor')\n",
    "\n",
    "if (doing_ransac):\n",
    "    plt.scatter(X[inlier_mask], y[inlier_mask], color='yellowgreen', marker='.', label='Inliers')\n",
    "    plt.scatter(X[outlier_mask], y[outlier_mask], color='gold', marker='.', label='Outliers')\n",
    "    plt.plot(line_X, line_y_ransac, color='cornflowerblue', linewidth=lw, label='RANSAC regressor')\n",
    "else:\n",
    "    plt.scatter(X, y, color='yellowgreen', marker='.', label='Data')\n",
    "    \n",
    "plt.legend(loc='lower right')\n",
    "plt.xlabel(\"Input\")\n",
    "plt.ylabel(\"Response\")\n",
    "plt.show()"
   ]
  },
  {
   "cell_type": "code",
   "execution_count": null,
   "metadata": {},
   "outputs": [],
   "source": []
  }
 ],
 "metadata": {
  "kernelspec": {
   "display_name": "Python 3",
   "language": "python",
   "name": "python3"
  },
  "language_info": {
   "codemirror_mode": {
    "name": "ipython",
    "version": 3
   },
   "file_extension": ".py",
   "mimetype": "text/x-python",
   "name": "python",
   "nbconvert_exporter": "python",
   "pygments_lexer": "ipython3",
   "version": "3.8.6"
  }
 },
 "nbformat": 4,
 "nbformat_minor": 2
}